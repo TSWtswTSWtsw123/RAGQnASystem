{
 "cells": [
  {
   "cell_type": "code",
   "execution_count": 1,
   "id": "01708294-4abb-49be-ae59-c73d9dc5f022",
   "metadata": {},
   "outputs": [],
   "source": [
    "\n",
    "from peft import AutoPeftModelForCausalLM, PeftModelForCausalLM\n",
    "from transformers import (\n",
    "    AutoModelForCausalLM,\n",
    "    AutoTokenizer,\n",
    "    AutoModel,\n",
    "    PreTrainedModel,\n",
    "    PreTrainedTokenizer,\n",
    "    PreTrainedTokenizerFast,\n",
    ")"
   ]
  },
  {
   "cell_type": "code",
   "execution_count": 9,
   "id": "4adac44a-73e0-4608-b92a-a3beaa95e436",
   "metadata": {},
   "outputs": [
    {
     "data": {
      "application/vnd.jupyter.widget-view+json": {
       "model_id": "4d01308a39d746e38ab059e5105b1cc3",
       "version_major": 2,
       "version_minor": 0
      },
      "text/plain": [
       "Loading checkpoint shards:   0%|          | 0/7 [00:00<?, ?it/s]"
      ]
     },
     "metadata": {},
     "output_type": "display_data"
    }
   ],
   "source": [
    "# tokenizer = AutoTokenizer.from_pretrained(\"/data/z_workspace/knowledge/model/ChatGLM3-6b\", trust_remote_code=True)\n",
    "# model = AutoModel.from_pretrained(\"/data/z_workspace/knowledge/finetune_demo/ptuning_output/checkpoint-3000\", trust_remote_code=True, device='cuda:1')\n",
    "# model = model.eval()\n",
    "def load_model_and_tokenizer(model_dir, trust_remote_code: bool = True):\n",
    "     model = AutoPeftModelForCausalLM.from_pretrained(\n",
    "            model_dir, trust_remote_code=trust_remote_code, device_map='cuda:0')\n",
    "     tokenizer = AutoTokenizer.from_pretrained(\n",
    "        '/data/z_workspace/knowledge/model/ChatGLM3-6b', trust_remote_code=trust_remote_code\n",
    "    )\n",
    "     return model, tokenizer\n",
    "model,tokenizer = load_model_and_tokenizer('/data/z_workspace/knowledge/finetune_demo/lora_output/checkpoint-3000')"
   ]
  },
  {
   "cell_type": "code",
   "execution_count": 12,
   "id": "36bd7ac6-df1f-4dcf-9470-63c625798288",
   "metadata": {},
   "outputs": [
    {
     "name": "stdout",
     "output_type": "stream",
     "text": [
      "查询语句: 1 急性阑尾炎 疾病简介, 2 急性阑尾炎 治疗的方法 治疗方法, 2 急性阑尾炎 疾病使用药品 药品\n",
      "\n",
      "解释: 用户询问的是急性阑尾炎的处理方法，因此首先需要查询急性阑尾炎的疾病简介，以便用户了解疾病的基本情况。接着，用户最关心的是治疗方法，所以需要提供急性阑尾炎的治疗方法。此外，用户可能还需要了解有哪些药品可以用于治疗，因此也需查询“疾病使用药品”关系。\n"
     ]
    }
   ],
   "source": [
    "prompt = f\"\"\"提示:目前，我的图数据库中有8类实体：疾病、药品、药品商、疾病症状、食物、检查项目、治疗方法、科目。在这里面，“疾病”这个实体有7个属性：名称、治愈概率、治疗周期、疾病易感人群、疾病病因、疾病简介、预防措施；其余实体均只有名称这个属性。在实体之间，具有8个关系：疾病使用药品、治疗的方法、疾病宜吃食物、疾病忌吃食物、疾病的症状、疾病所需检查、疾病所属科目、疾病并发疾病。其中“疾病使用药品”是“疾病”和“药品”之间的关系，“治疗的方法”是“疾病”和“治疗方法”之间的关系，“疾病宜吃食物”是“疾病”和“食物”之间的关系，“疾病忌吃食物”是“疾病”和“食物”之间的关系，“疾病的症状”是“疾病”和“疾病症状”之间的关系，“疾病所需检查”是“疾病”和“检查项目”之间的关系，“疾病所属科目”是“疾病”和“科目”之间的关系，“疾病并发疾病”是“疾病”和“疾病”之间的关系。\n",
    "    \n",
    "现在，你是一个机器人医生，用户对你输入问题，你需要精准的理解问题的内容，根据其含义构建Neo4j数据库的查询语句，多条查询语句请用逗号分割。\n",
    "    \n",
    "请注意，你的查询语句只限于两个操作：1.查询疾病的属性，你需要提供疾病具体名称和属性名。2.查询疾病与其他实体之间的关系，你需要提供疾病具体名称、关系名称、实体类别名。为了简化输出，你输出查询语句格式的应为：对于类型1的查询，输出“1 疾病名称 属性”；对于类型2的查询，输出“2 疾病名称 关系 实体类别”。如果有多个查询，每个查询之间用中文逗号隔开。\n",
    "    \n",
    "用户问题：{'得了急性阑尾炎该怎么办？'}\n",
    "查询语句:\n",
    "解释:\n",
    "    \"\"\"\n",
    "response, _ = model.chat(tokenizer, prompt)\n",
    "print(response)"
   ]
  },
  {
   "cell_type": "code",
   "execution_count": null,
   "id": "662bb2ea-096f-44e4-b48e-f1884daa4eb9",
   "metadata": {},
   "outputs": [],
   "source": []
  }
 ],
 "metadata": {
  "kernelspec": {
   "display_name": "Python 3 (ipykernel)",
   "language": "python",
   "name": "python3"
  },
  "language_info": {
   "codemirror_mode": {
    "name": "ipython",
    "version": 3
   },
   "file_extension": ".py",
   "mimetype": "text/x-python",
   "name": "python",
   "nbconvert_exporter": "python",
   "pygments_lexer": "ipython3",
   "version": "3.10.5"
  }
 },
 "nbformat": 4,
 "nbformat_minor": 5
}
